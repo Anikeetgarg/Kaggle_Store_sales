{
 "cells": [
  {
   "cell_type": "code",
   "execution_count": 3,
   "id": "7b7fbfe9-c4df-4a3f-b880-a143c193d7f2",
   "metadata": {},
   "outputs": [],
   "source": [
    "import matplotlib.pyplot as plt\n",
    "import pandas as pd\n",
    "import numpy as np\n",
    "import seaborn as sns"
   ]
  },
  {
   "cell_type": "code",
   "execution_count": 15,
   "id": "769dbbd2-499c-409c-bedd-e1c7de835313",
   "metadata": {},
   "outputs": [
    {
     "name": "stdout",
     "output_type": "stream",
     "text": [
      "File already exists!\n"
     ]
    }
   ],
   "source": [
    "from pathlib import Path\n",
    "import zipfile\n",
    "import requests\n",
    "\n",
    "# setting up data path\n",
    "data_path = Path(\"data\")\n",
    "zip_file_path = data_path / \"store-sales-time-series-forecasting\"\n",
    "\n",
    "# check if data file exists\n",
    "if data_path.is_dir():\n",
    "    print(\"File already exists!\")\n",
    "else:\n",
    "    print(f\"Did not find {data_path}, creating one...\")\n",
    "    data_path.mkdir(parents=True, exist_ok=True)\n",
    "\n",
    "    # Download the data\n",
    "    with open(data_path/ 'store-sales-time-series-forecasting.zip', 'wb') as f:\n",
    "        print(\"Downloading Kaggle Store sales dataset....\")\n",
    "        request = requests.get(\"https://drive.usercontent.google.com/download?id=1cYrRbCePYybCevqFPieacgkVgfxVmQ-M&export=download\")\n",
    "        f.write(request.content)\n",
    "    # unzip the files\n",
    "    with zipfile.ZipFile(data_path/ 'store-sales-time-series-forecasting.zip', \"r\") as zip_ref:\n",
    "        print(\"Unzipping Kaggle Store sales dataset...\") \n",
    "        zip_ref.extractall(data_path)"
   ]
  },
  {
   "cell_type": "code",
   "execution_count": null,
   "id": "6b06255a-4ca8-4a0e-a989-b779d01dece3",
   "metadata": {},
   "outputs": [],
   "source": []
  },
  {
   "cell_type": "code",
   "execution_count": null,
   "id": "28f7a047-026b-45d6-a35c-82373cda6f1d",
   "metadata": {},
   "outputs": [],
   "source": []
  }
 ],
 "metadata": {
  "kernelspec": {
   "display_name": "Python 3 (ipykernel)",
   "language": "python",
   "name": "python3"
  },
  "language_info": {
   "codemirror_mode": {
    "name": "ipython",
    "version": 3
   },
   "file_extension": ".py",
   "mimetype": "text/x-python",
   "name": "python",
   "nbconvert_exporter": "python",
   "pygments_lexer": "ipython3",
   "version": "3.10.12"
  }
 },
 "nbformat": 4,
 "nbformat_minor": 5
}
